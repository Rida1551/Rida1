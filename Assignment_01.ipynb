{
 "cells": [
  {
   "cell_type": "markdown",
   "id": "548b84c2-e24f-4a12-98bb-5e7bd5ec86bd",
   "metadata": {},
   "source": [
    "# Python"
   ]
  },
  {
   "cell_type": "markdown",
   "id": "99fbfc45-ba9e-4766-8219-f5dbcacc8481",
   "metadata": {},
   "source": [
    "<a target=\"_blank\" href=\"https://colab.research.google.com/github/kgsb24/rishi-college/blob/main/assignments/Assignment_01.ipynb\">\n",
    "  <img src=\"https://colab.research.google.com/assets/colab-badge.svg\" alt=\"Open In Colab\"/>\n",
    "</a>"
   ]
  },
  {
   "cell_type": "markdown",
   "id": "07a1f870-f905-4703-8b65-12e83172133a",
   "metadata": {},
   "source": [
    "## Basic Python Fundamentals"
   ]
  },
  {
   "cell_type": "code",
   "execution_count": 2,
   "id": "502e1d87-2fdd-4588-a330-2af21268215e",
   "metadata": {},
   "outputs": [
    {
     "data": {
      "text/plain": [
       "int"
      ]
     },
     "execution_count": 2,
     "metadata": {},
     "output_type": "execute_result"
    }
   ],
   "source": [
    "x=10\n",
    "type(x)\n",
    "\n",
    "\n",
    "\n",
    "\n",
    "# Write a Python program to declare a variable x with the value 10 and print its type."
   ]
  },
  {
   "cell_type": "code",
   "execution_count": 1,
   "id": "dae77579-4b7d-4f06-96e0-7bdfe43860d7",
   "metadata": {},
   "outputs": [
    {
     "name": "stdout",
     "output_type": "stream",
     "text": [
      "30\n"
     ]
    }
   ],
   "source": [
    "a=5\n",
    "b=10\n",
    "c=15\n",
    "sum=a+b+c\n",
    "print(sum)\n",
    "# Write a Python program to declare three variables a = 5, b = 10, and c = 15, and print their sum."
   ]
  },
  {
   "cell_type": "code",
   "execution_count": 6,
   "id": "c32867b2-a615-426a-89ae-bd2793b6a4dc",
   "metadata": {},
   "outputs": [
    {
     "name": "stdout",
     "output_type": "stream",
     "text": [
      "<class 'int'>\n",
      "<class 'str'>\n",
      "<class 'float'>\n"
     ]
    }
   ],
   "source": [
    "a = 11\n",
    "b = \"rida\"\n",
    "c = 10.5\n",
    "print(type(a))\n",
    "print(type(b))\n",
    "print(type(c))\n",
    "\n",
    "\n",
    "# Write a Python program that checks and prints the type of a variable (e.g., int, float, str, etc.)."
   ]
  },
  {
   "cell_type": "code",
   "execution_count": 2,
   "id": "8b233e41-9d44-4869-9ead-afb3ff1c0b67",
   "metadata": {},
   "outputs": [
    {
     "name": "stdout",
     "output_type": "stream",
     "text": [
      "12\n",
      "20\n",
      "5.0\n"
     ]
    }
   ],
   "source": [
    "a=10\n",
    "b=2\n",
    "sum=a+b\n",
    "product=a*b\n",
    "quotient=a/b\n",
    "print(sum)\n",
    "print(product)\n",
    "print(quotient)\n",
    "\n",
    "\n",
    "# Write a Python program to perform addition, subtraction, multiplication, and division on two numbers. (User input is required for the numbers)"
   ]
  },
  {
   "cell_type": "code",
   "execution_count": 3,
   "id": "629435bd-6bfa-44de-91d9-3b2937713257",
   "metadata": {},
   "outputs": [
    {
     "name": "stdout",
     "output_type": "stream",
     "text": [
      "<class 'int'>\n",
      "<class 'float'>\n"
     ]
    }
   ],
   "source": [
    "roll_no=\"123\"\n",
    "roll_no=int(roll_no)\n",
    "print(type(roll_no))\n",
    "roll_no=float(roll_no)\n",
    "print(type(roll_no))\n",
    "\n",
    "\n",
    "# Write a Python program to convert a string \"123\" to an integer and a float and print the results."
   ]
  },
  {
   "cell_type": "code",
   "execution_count": 11,
   "id": "599421f1-51c1-4653-9d78-b007fcc6861b",
   "metadata": {},
   "outputs": [
    {
     "name": "stdout",
     "output_type": "stream",
     "text": [
      "r\n"
     ]
    }
   ],
   "source": [
    "a=\"rida\"\n",
    "first_letter=a[0]\n",
    "print(first_letter)\n",
    "\n",
    "\n",
    "# Write a Python program to print the first character of a given string. (User input for the string)"
   ]
  },
  {
   "cell_type": "code",
   "execution_count": 3,
   "id": "60646a3f",
   "metadata": {},
   "outputs": [
    {
     "name": "stdout",
     "output_type": "stream",
     "text": [
      "r\n"
     ]
    }
   ],
   "source": [
    "a=str(input(\"enter a string:\"))\n",
    "first_letter=a[0]\n",
    "print(first_letter)\n",
    "\n",
    "\n",
    "# Write a Python program to print the first character of a given string. (User input for the string)"
   ]
  },
  {
   "cell_type": "code",
   "execution_count": 4,
   "id": "54ee0a5d-415f-40b6-b82e-c0de12a002f9",
   "metadata": {},
   "outputs": [
    {
     "data": {
      "text/plain": [
       "8"
      ]
     },
     "execution_count": 4,
     "metadata": {},
     "output_type": "execute_result"
    }
   ],
   "source": [
    "a=str(input(\"enter string:\"))\n",
    "len(a)\n",
    "\n",
    "\n",
    "# Write a Python program to print the length of a string. (User input for the string)"
   ]
  },
  {
   "cell_type": "code",
   "execution_count": 2,
   "id": "65f44c33-618e-4337-a9d1-9de888c93a0a",
   "metadata": {},
   "outputs": [
    {
     "name": "stdout",
     "output_type": "stream",
     "text": [
      "False\n"
     ]
    }
   ],
   "source": [
    "a=\"3445\"\n",
    "b=a.isalpha()\n",
    "print(b)\n",
    "\n",
    "# Write a Python program to check if a given string contains only alphabets."
   ]
  },
  {
   "cell_type": "code",
   "execution_count": 3,
   "id": "46b764a0",
   "metadata": {},
   "outputs": [
    {
     "name": "stdout",
     "output_type": "stream",
     "text": [
      "True\n"
     ]
    }
   ],
   "source": [
    "a=\"rishi\"\n",
    "b=a.isalpha()\n",
    "print(b)\n",
    "\n",
    "# Write a Python program to check if a given string contains only alphabets."
   ]
  },
  {
   "cell_type": "code",
   "execution_count": 5,
   "id": "37463128-2b51-4860-b6bf-40d3c03fbe84",
   "metadata": {},
   "outputs": [
    {
     "name": "stdout",
     "output_type": "stream",
     "text": [
      "rishicollege\n"
     ]
    }
   ],
   "source": [
    "a=str(input(\"string1:\"))\n",
    "b=str(input(\"string2:\"))\n",
    "c=a+b\n",
    "print(c)\n",
    "\n",
    "\n",
    "# Write a Python program to concatenate two strings. (User input for the strings)"
   ]
  },
  {
   "cell_type": "code",
   "execution_count": 6,
   "id": "b1c5d364-eccf-473a-b03a-ab15f3e917cf",
   "metadata": {},
   "outputs": [
    {
     "name": "stdout",
     "output_type": "stream",
     "text": [
      "7\n"
     ]
    }
   ],
   "source": [
    "a=str(input(\"string1:\"))\n",
    "print(a.index(\"abc\"))\n",
    "\n",
    "\n",
    "# Write a Python program to find the index of a substring \"abc\" in a string. (User input for the string)"
   ]
  },
  {
   "cell_type": "code",
   "execution_count": 8,
   "id": "cc92afd9-ba4b-4934-a79d-f26825b4efc2",
   "metadata": {},
   "outputs": [
    {
     "name": "stdout",
     "output_type": "stream",
     "text": [
      "water\n"
     ]
    }
   ],
   "source": [
    "a=str(input(\"string:\"))\n",
    "print(a.lower())\n",
    "\n",
    "\n",
    "# Write a Python program to convert a string to both uppercase and lowercase. (User input for the string)"
   ]
  },
  {
   "cell_type": "code",
   "execution_count": 9,
   "id": "8dce9e04",
   "metadata": {},
   "outputs": [
    {
     "name": "stdout",
     "output_type": "stream",
     "text": [
      "WATER\n"
     ]
    }
   ],
   "source": [
    "a=str(input(\"string:\"))\n",
    "print(a.upper())\n",
    "\n",
    "\n",
    "# Write a Python program to convert a string to both uppercase and lowercase. (User input for the string)"
   ]
  },
  {
   "cell_type": "code",
   "execution_count": 11,
   "id": "f24f79b3-da8b-44bf-8310-c68442e86e3e",
   "metadata": {},
   "outputs": [
    {
     "name": "stdout",
     "output_type": "stream",
     "text": [
      "r appears 2 times\n"
     ]
    }
   ],
   "source": [
    "a=str(input(\"enter string:\"))\n",
    "character = str(input(\"enter the character to count:\"))\n",
    "c = a.count(character)\n",
    "print(character, \"appears\" , c , \"times\")\n",
    "\n",
    "\n",
    "\n",
    "# Write a Python program to count how many times a particular character appears in a string. (User input for string and character)"
   ]
  },
  {
   "cell_type": "code",
   "execution_count": 16,
   "id": "f2e8f25c-5c34-44eb-b749-7cc4c100b9a8",
   "metadata": {},
   "outputs": [
    {
     "name": "stdout",
     "output_type": "stream",
     "text": [
      "hello rida good morning\n"
     ]
    }
   ],
   "source": [
    "username=str(input(\"enter your name:\"))\n",
    "print(\"hello\" ,username, \"good morning\")\n",
    "\n",
    "\n",
    "# Write a Python program to take the user's name as input and print a personalized greeting. (Hello, username, Good Morning)"
   ]
  },
  {
   "cell_type": "code",
   "execution_count": 19,
   "id": "189296cf-77e6-4f48-b010-77458da5bc9d",
   "metadata": {},
   "outputs": [
    {
     "name": "stdout",
     "output_type": "stream",
     "text": [
      "10\n"
     ]
    }
   ],
   "source": [
    "a=int(input(\"number1:\"))\n",
    "b=int(input(\"number2:\"))\n",
    "sum=a+b\n",
    "print(sum)\n",
    "\n",
    "\n",
    "\n",
    "# Write a Python program to take two numbers as input and print their sum."
   ]
  },
  {
   "cell_type": "code",
   "execution_count": 20,
   "id": "0563b26c-0218-47b8-9035-98beb73b0931",
   "metadata": {},
   "outputs": [
    {
     "name": "stdout",
     "output_type": "stream",
     "text": [
      "name: rida age: 20\n"
     ]
    }
   ],
   "source": [
    "a=str(input(\"name:\"))\n",
    "b=str(input(\"age:\"))\n",
    "print(\"name:\" ,a, \"age:\" ,b,)\n",
    "\n",
    "\n",
    "# Write a Python program to format and display a string containing the user's name and age. (User input required)"
   ]
  },
  {
   "cell_type": "markdown",
   "id": "0bde6e5a-0415-4b06-8b5a-95fa252b34eb",
   "metadata": {},
   "source": [
    "## Control Structures (Conditionals and Loops)"
   ]
  },
  {
   "cell_type": "code",
   "execution_count": 25,
   "id": "aefff5f3-b61e-43e6-a458-7367ef1af9de",
   "metadata": {},
   "outputs": [
    {
     "name": "stdout",
     "output_type": "stream",
     "text": [
      "Negative\n"
     ]
    }
   ],
   "source": [
    "# Write a Python program that takes a number as input and checks whether it is positive, negative, or zero.\n",
    "# Python program to check whether\n",
    "# the number is positive, negative\n",
    "# or equal to zero\n",
    "n=int(input(\"number:\"))\n",
    "\t\n",
    "if n > 0:\n",
    "\t\tprint(\"Positive\")\n",
    "\t\t\n",
    "\n",
    "elif n < 0:\n",
    "\t\tprint(\"Negative\")\n",
    "\t\t\n",
    "\n",
    "else:\n",
    "\t\tprint(\"Equal to zero\")\n",
    "\t\t\n",
    "\n"
   ]
  },
  {
   "cell_type": "code",
   "execution_count": 29,
   "id": "4dc6d14b-6d22-4348-859a-2a03f9be65f7",
   "metadata": {},
   "outputs": [
    {
     "name": "stdout",
     "output_type": "stream",
     "text": [
      "45 is max\n"
     ]
    }
   ],
   "source": [
    "# Write a Python program to find the maximum of three numbers. (User input for the numbers)\n",
    "a=int(input(\"number1:\"))\n",
    "b=int(input(\"number2:\"))\n",
    "c=int(input(\"number3:\"))\n",
    "if a> b and a>c:\n",
    "      print(a,\"is max\")\n",
    "\n",
    "elif b>a and b>c:\n",
    "      print(b, \"is max\") \n",
    "\n",
    "else:\n",
    "      print(c, \"is max\")    "
   ]
  },
  {
   "cell_type": "code",
   "execution_count": 30,
   "id": "3f6d1f45-eb68-4142-89d6-510046f21879",
   "metadata": {},
   "outputs": [
    {
     "name": "stdout",
     "output_type": "stream",
     "text": [
      "1948 it is a leap year\n"
     ]
    }
   ],
   "source": [
    "# Write a Python program to check if a year is a leap year. (User input for the year)\n",
    "year=int(input(\"enter a year:\"))\n",
    "if(year%4==0 and year%100!=0) or (year%400==0):\n",
    "  print(year,\"it is a leap year\")\n",
    "else:\n",
    "    print(year,\"it is not a leap year\")"
   ]
  },
  {
   "cell_type": "code",
   "execution_count": null,
   "id": "b6a07105-6fa5-4f70-b64b-ebd66afc3c2b",
   "metadata": {},
   "outputs": [
    {
     "name": "stdout",
     "output_type": "stream",
     "text": [
      "the number is not divisible by 3 and 5\n"
     ]
    }
   ],
   "source": [
    "number=int(input(\"enter a number:\"))\n",
    "if(number%3==0 and number%5==0):\n",
    "    print(\"number is divisible by 3 and 5\")\n",
    "else:\n",
    "    print(\"the number is not divisible by 3 and 5\")\n",
    "\n",
    "# Write a Python program to check if a number is divisible by both 3 and 5. (User input for the number)\n"
   ]
  },
  {
   "cell_type": "code",
   "execution_count": null,
   "id": "d10c9005-b85d-42f9-81d0-65d149415888",
   "metadata": {},
   "outputs": [],
   "source": [
    "name=str(input(\"enter a name:\"))\n",
    "if name == name[::1]:\n",
    "    print(f\"{name} is a palindrome\")\n",
    "else:\n",
    "    print(f\"{name} is not a palindrome\")\n",
    "\n",
    "\n",
    "# Write a Python program to check if a string is a palindrome. (User input for the string)"
   ]
  },
  {
   "cell_type": "code",
   "execution_count": 1,
   "id": "82d76cdf-efc6-45c6-ab09-9d1f17b3d857",
   "metadata": {},
   "outputs": [
    {
     "name": "stdout",
     "output_type": "stream",
     "text": [
      "1\n",
      "2\n",
      "3\n",
      "4\n",
      "5\n",
      "6\n",
      "7\n",
      "8\n",
      "9\n",
      "10\n"
     ]
    }
   ],
   "source": [
    "# Write a Python program to print numbers from 1 to 10 using a for loop.\n",
    "for i in range(1,11):\n",
    "    print(i)\n"
   ]
  },
  {
   "cell_type": "code",
   "execution_count": 2,
   "id": "d09e8994-e984-4c12-ab1e-1bfc6938a389",
   "metadata": {},
   "outputs": [
    {
     "name": "stdout",
     "output_type": "stream",
     "text": [
      "2\n",
      "4\n",
      "6\n",
      "8\n",
      "10\n",
      "12\n",
      "14\n",
      "16\n",
      "18\n",
      "20\n"
     ]
    }
   ],
   "source": [
    "# Write a Python program to print all even numbers from 1 to 20 using a while loop.\n",
    "i = 1\n",
    "while i <= 20:\n",
    "    if i % 2 == 0:\n",
    "        print(i)\n",
    "    i+= 1"
   ]
  },
  {
   "cell_type": "code",
   "execution_count": 3,
   "id": "c09ca878-167e-49ca-97f0-247a43c9b472",
   "metadata": {},
   "outputs": [
    {
     "name": "stdout",
     "output_type": "stream",
     "text": [
      "6 x 1 = 6\n",
      "6 x 2 = 12\n",
      "6 x 3 = 18\n",
      "6 x 4 = 24\n",
      "6 x 5 = 30\n",
      "6 x 6 = 36\n",
      "6 x 7 = 42\n",
      "6 x 8 = 48\n",
      "6 x 9 = 54\n",
      "6 x 10 = 60\n"
     ]
    }
   ],
   "source": [
    "# Write a Python program to print the multiplication table of a given number using a for loop. (User input for the number)\n",
    "number = int(input(\"Enter a number: \"))\n",
    "for i in range(1,11):\n",
    "    print(f\"{number} x {i} = {number*i}\")\n"
   ]
  },
  {
   "cell_type": "code",
   "execution_count": 4,
   "id": "b72118ab-e62d-4af9-bcec-e1cc6af31b25",
   "metadata": {},
   "outputs": [
    {
     "name": "stdout",
     "output_type": "stream",
     "text": [
      "The sum of all numbers from 1 to 10 is 55.\n"
     ]
    }
   ],
   "source": [
    "# Write a Python program to calculate the sum of all numbers from 1 to n using a while loop. (User input for n)\n",
    "n = int(input(\"Enter a number: \"))\n",
    "sum = 0\n",
    "i = 1\n",
    "while i <= n:\n",
    "    sum += i\n",
    "    i += 1\n",
    "print(f\"The sum of all numbers from 1 to {n} is {sum}.\")"
   ]
  },
  {
   "cell_type": "code",
   "execution_count": 6,
   "id": "ae93621f-11a2-40b7-97bc-3002f03ac36a",
   "metadata": {},
   "outputs": [
    {
     "name": "stdout",
     "output_type": "stream",
     "text": [
      "The factorial of 3 is 6.\n"
     ]
    }
   ],
   "source": [
    "# Write a Python program to calculate the factorial of a number using a while loop. (User input for the number)\n",
    "num = int(input(\"Enter a number: \"))\n",
    "factorial = 1\n",
    "i = 1\n",
    "while i <= num:\n",
    "    factorial*= i\n",
    "    i+= 1\n",
    "print(f\"The factorial of {num} is {factorial}.\")"
   ]
  },
  {
   "cell_type": "code",
   "execution_count": 1,
   "id": "68467ccc-d696-4ef1-84c4-164c9d87f755",
   "metadata": {},
   "outputs": [
    {
     "name": "stdout",
     "output_type": "stream",
     "text": [
      "0\n",
      "1\n",
      "1\n",
      "2\n"
     ]
    }
   ],
   "source": [
    "#User input  Write a Python program to print the Fibonacci sequence up to n terms. (for n)\n",
    "def fibonacci(n):\n",
    "    a, b = 0, 1\n",
    "    for i in range(n):\n",
    "        print(a)\n",
    "        a, b = b, a + b\n",
    "\n",
    "n = int(input(\"Enter the number of terms: \"))\n",
    "\n",
    "fibonacci(n)"
   ]
  },
  {
   "cell_type": "code",
   "execution_count": 3,
   "id": "5bebd1f3-2606-4102-aa55-01cb1650f632",
   "metadata": {},
   "outputs": [
    {
     "name": "stdout",
     "output_type": "stream",
     "text": [
      "1\n",
      "2\n",
      "3\n",
      "5\n",
      "7\n",
      "11\n",
      "13\n",
      "17\n",
      "19\n",
      "23\n",
      "29\n",
      "31\n",
      "37\n",
      "41\n",
      "43\n",
      "47\n",
      "53\n",
      "59\n",
      "61\n",
      "67\n",
      "71\n",
      "73\n",
      "79\n",
      "83\n",
      "89\n",
      "97\n"
     ]
    }
   ],
   "source": [
    "# Write a Python program to find all the prime numbers from 1 to 100.\n",
    "num1 = 1\n",
    "num2 = 100\n",
    "\n",
    "\n",
    "for x in range(num1,num2):\n",
    "    prime = True\n",
    "    for i in range(2,x):\n",
    "        if (x%i==0):\n",
    "            prime = False\n",
    "    if prime == True:\n",
    "       print(x)"
   ]
  },
  {
   "cell_type": "code",
   "execution_count": 4,
   "id": "0a3f894e-52ba-4c0b-9158-a70f31f4fd49",
   "metadata": {},
   "outputs": [
    {
     "name": "stdout",
     "output_type": "stream",
     "text": [
      "1\n",
      "2\n",
      "3\n",
      "4\n",
      "5\n"
     ]
    }
   ],
   "source": [
    "# Write a Python program that breaks out of a loop when a specific condition is met (e.g., when a number greater than 50 is found).\n",
    "numbers = [1, 2, 3, 4, 5, 6, 7, 8, 9, 10]\n",
    "\n",
    "for num in numbers:\n",
    "    print(num)\n",
    "    if num == 5:\n",
    "        break"
   ]
  },
  {
   "cell_type": "code",
   "execution_count": 5,
   "id": "499b91d0-1f1b-494f-af2b-8cc3a06d90ed",
   "metadata": {},
   "outputs": [
    {
     "name": "stdout",
     "output_type": "stream",
     "text": [
      "1\n",
      "3\n",
      "5\n",
      "7\n",
      "9\n",
      "11\n",
      "13\n",
      "15\n",
      "17\n",
      "19\n"
     ]
    }
   ],
   "source": [
    "# Write a Python program to skip even numbers while printing numbers from 1 to 20 using a for loop.\n",
    "for num in range(1, 21):\n",
    "    if num % 2 == 0:\n",
    "        continue  # Skip even numbers\n",
    "    print(num)"
   ]
  },
  {
   "cell_type": "code",
   "execution_count": 6,
   "id": "f8ffed70-dfde-4262-a2fd-0d35d69b5fb1",
   "metadata": {},
   "outputs": [
    {
     "name": "stdout",
     "output_type": "stream",
     "text": [
      "The character 'O' appears 2 times in the string.\n"
     ]
    }
   ],
   "source": [
    "# Write a Python program to count how many times a particular character appears in a string using a for loop. (User input for string and character)\n",
    "string = input(\"Enter a string: \")\n",
    "char = input(\"Enter the character to count: \")\n",
    "\n",
    "count = 0\n",
    "for c in string:\n",
    "    if c == char:\n",
    "        count += 1\n",
    "\n",
    "print(f\"The character '{char}' appears {count} times in the string.\")"
   ]
  },
  {
   "cell_type": "code",
   "execution_count": 7,
   "id": "01f976ed-4dcd-4842-ae84-d3b5cc42d011",
   "metadata": {},
   "outputs": [
    {
     "name": "stdout",
     "output_type": "stream",
     "text": [
      "Sum of digits: 11\n"
     ]
    }
   ],
   "source": [
    "# Write a Python program to calculate the sum of digits of a number. (User input for the number)\n",
    "def sum_of_digits(number):\n",
    "    sum = 0\n",
    "    while number > 0:\n",
    "        digit = number % 10  # Get the last digit\n",
    "        sum += digit\n",
    "        number //= 10  # Remove the last digit\n",
    "    return sum\n",
    "\n",
    "number = int(input(\"Enter a number: \"))\n",
    "result = sum_of_digits(number)\n",
    "print(\"Sum of digits:\", result)"
   ]
  },
  {
   "cell_type": "markdown",
   "id": "fe644fae-f262-48dd-b7ff-08eb747d297e",
   "metadata": {},
   "source": [
    "## Data Structures (Lists, Tuples, Sets, Dictionaries)"
   ]
  },
  {
   "cell_type": "code",
   "execution_count": 8,
   "id": "a0333c26-8e19-4c71-9722-d32cf8625ef6",
   "metadata": {},
   "outputs": [
    {
     "name": "stdout",
     "output_type": "stream",
     "text": [
      "The sum of the elements is: 150\n"
     ]
    }
   ],
   "source": [
    "# Write a Python program to create a list of integers and print the sum of the elements.\n",
    "my_list = [10, 20, 30, 40, 50]\n",
    "total = sum(my_list)\n",
    "print(\"The sum of the elements is:\", total)"
   ]
  },
  {
   "cell_type": "code",
   "execution_count": 10,
   "id": "5a23046d-80b0-4f8d-a02f-4e3d833c0443",
   "metadata": {},
   "outputs": [
    {
     "name": "stdout",
     "output_type": "stream",
     "text": [
      "13\n"
     ]
    }
   ],
   "source": [
    "# Write a Python program to find the largest element in a list.\n",
    "a = [1, 4, 7, 13, 12]\n",
    "largest = max(a)\n",
    "print(largest)"
   ]
  },
  {
   "cell_type": "code",
   "execution_count": 11,
   "id": "9939c2d2-90fd-4e80-81bc-227c72e60e37",
   "metadata": {},
   "outputs": [
    {
     "name": "stdout",
     "output_type": "stream",
     "text": [
      "[5, 4, 3, 2, 1]\n"
     ]
    }
   ],
   "source": [
    "# Write a Python program to reverse a list.\n",
    "def reverse_list(lst):\n",
    "    \"\"\"Reverses a list in-place.\"\"\"\n",
    "    lst.reverse()\n",
    "\n",
    "my_list = [1, 2, 3, 4, 5]\n",
    "reverse_list(my_list)\n",
    "print(my_list)  # Output: [5, 4, 3, 2, 1]"
   ]
  },
  {
   "cell_type": "code",
   "execution_count": 13,
   "id": "aa287db8-057b-48d4-a6d8-18cc53eb7178",
   "metadata": {},
   "outputs": [
    {
     "name": "stdout",
     "output_type": "stream",
     "text": [
      "[1, 2, 30, 5]\n"
     ]
    }
   ],
   "source": [
    "# Write a Python program to remove all occurrences of a specific element from a list.\n",
    "list = [1,2,30,7,5]\n",
    "element = 7\n",
    "list.remove(element)\n",
    "print(list)"
   ]
  },
  {
   "cell_type": "code",
   "execution_count": 14,
   "id": "da9ba926-0ab5-46e9-b66d-128088c3225b",
   "metadata": {},
   "outputs": [
    {
     "name": "stdout",
     "output_type": "stream",
     "text": [
      "5\n"
     ]
    }
   ],
   "source": [
    "# Write a Python program to find the index of an element in a list.\n",
    "list = [1,21,3,45,5,6,7,8,19,13]\n",
    "element = 6\n",
    "index = list.index(element)\n",
    "print(index)"
   ]
  },
  {
   "cell_type": "code",
   "execution_count": 15,
   "id": "9601b6e4-cb90-4e1f-87b4-38ed37076e0d",
   "metadata": {},
   "outputs": [
    {
     "name": "stdout",
     "output_type": "stream",
     "text": [
      "True\n",
      "False\n"
     ]
    }
   ],
   "source": [
    "# Write a Python program to find if a specific element exists in a list.\n",
    "my_list = [\"apple\", \"banana\", \"cherry\"]\n",
    "\n",
    "print(\"banana\" in my_list)  \n",
    "print(\"pineapple\" in my_list)"
   ]
  },
  {
   "cell_type": "code",
   "execution_count": 16,
   "id": "9d8e7311-81de-4da2-826c-c4dcad28ed9f",
   "metadata": {},
   "outputs": [
    {
     "name": "stdout",
     "output_type": "stream",
     "text": [
      "{1, 2, 3, 4, 5, 6, 7}\n"
     ]
    }
   ],
   "source": [
    "# Write a Python program to remove duplicates from a list.\n",
    "list = [1,2,3,3,4,5,7,5,6,5]\n",
    "unique_list = (set(list))\n",
    "print(unique_list)\n"
   ]
  },
  {
   "cell_type": "code",
   "execution_count": 20,
   "id": "09e5121b-97b3-42e4-8025-f28f3470681b",
   "metadata": {},
   "outputs": [
    {
     "name": "stdout",
     "output_type": "stream",
     "text": [
      "3\n"
     ]
    }
   ],
   "source": [
    "# Write a Python program to count the occurrences of an element in a list.\n",
    "a = [1, 3, 2, 6, 3, 2, 8, 2, 9, 2, 7, 3]\n",
    "\n",
    "\n",
    "count = 0\n",
    "\n",
    "for val in a:\n",
    "  \n",
    "      # If num is equal to 3 \n",
    "    if val == 3:\n",
    "      \n",
    "        # Increase the counter\n",
    "        count += 1\n",
    "\n",
    "print(count)"
   ]
  },
  {
   "cell_type": "code",
   "execution_count": 21,
   "id": "b774b741-e9a6-45db-8f00-e6d9b734d03a",
   "metadata": {},
   "outputs": [
    {
     "name": "stdout",
     "output_type": "stream",
     "text": [
      "Number of even numbers: 5\n"
     ]
    }
   ],
   "source": [
    "# Write a Python program to get the number of even numbers in a list.\n",
    "def count_even_numbers(lst):\n",
    "    count = 0\n",
    "    for num in lst:\n",
    "        if num % 2 == 0:\n",
    "            count += 1\n",
    "    return count\n",
    "\n",
    "numbers = [1, 2, 3, 4, 5, 6, 7, 8, 9, 10]\n",
    "print(\"Number of even numbers:\", count_even_numbers(numbers))"
   ]
  },
  {
   "cell_type": "code",
   "execution_count": 22,
   "id": "5ce4fd2b-ab16-4b40-9ac2-d19c244d8d96",
   "metadata": {},
   "outputs": [
    {
     "name": "stdout",
     "output_type": "stream",
     "text": [
      "('apple', 'banana', 'cherry')\n"
     ]
    }
   ],
   "source": [
    "# Write a Python program to create a tuple and print it.\n",
    "my_tuple = (\"apple\", \"banana\", \"cherry\") \n",
    "\n",
    "\n",
    "print(my_tuple) "
   ]
  },
  {
   "cell_type": "code",
   "execution_count": 24,
   "id": "5c04f880-6e96-4ef4-9f4b-df21aae76ff1",
   "metadata": {},
   "outputs": [
    {
     "name": "stdout",
     "output_type": "stream",
     "text": [
      "[1, 2, 3]\n"
     ]
    }
   ],
   "source": [
    "# Write a Python program to convert a tuple to a list and vice versa.\n",
    "# Define a tuple\n",
    "GFG_tuple = (1, 2, 3)\n",
    "\n",
    "# Convert the tuple to a list using list comprehension\n",
    "GFG_list = [element for element in GFG_tuple]\n",
    "print(GFG_list)\n",
    "\n"
   ]
  },
  {
   "cell_type": "code",
   "execution_count": 25,
   "id": "d5192acc-27f3-456e-9c72-3b276a587bf5",
   "metadata": {},
   "outputs": [
    {
     "name": "stdout",
     "output_type": "stream",
     "text": [
      "Minimum of the tuple: 1\n",
      "Maximum of the tuple: 10\n"
     ]
    }
   ],
   "source": [
    "# Write a Python program to find the maximum and minimum values in a tuple.\n",
    "tuple = (1,2,3,4,5,6,7,8,9,10)\n",
    "maximum = max(tuple)\n",
    "minimum = min(tuple)\n",
    "print(\"Minimum of the tuple:\", min(tuple))\n",
    "print(\"Maximum of the tuple:\", max(tuple))\n"
   ]
  },
  {
   "cell_type": "code",
   "execution_count": 26,
   "id": "43f0a340-9407-4302-af7e-4e63db578bbf",
   "metadata": {},
   "outputs": [
    {
     "name": "stdout",
     "output_type": "stream",
     "text": [
      "1\n",
      "2\n",
      "3\n"
     ]
    }
   ],
   "source": [
    "# Write a Python program to unpack a tuple into variables.\n",
    "my_tuple = (1,2,3)\n",
    "a,b,c = my_tuple\n",
    "print(a)\n",
    "print(b)\n",
    "print(c)"
   ]
  },
  {
   "cell_type": "code",
   "execution_count": 27,
   "id": "46e96e29-2157-4b9f-bb24-0bd973eada9f",
   "metadata": {},
   "outputs": [
    {
     "name": "stdout",
     "output_type": "stream",
     "text": [
      "{1, 2, 3, 4, 5, 6}\n",
      "3 exists in the set.\n"
     ]
    }
   ],
   "source": [
    "# Write a Python program to add an element to a set and check if an element exists in the set.\n",
    "my_set = {1,2,3,4,5}\n",
    "my_set.add(6)\n",
    "print(my_set)\n",
    "element = 3\n",
    "if element in my_set:\n",
    "    print(f\"{element} exists in the set.\")"
   ]
  },
  {
   "cell_type": "code",
   "execution_count": 29,
   "id": "d81a803b-fd80-403e-9ae3-680ef44a3d86",
   "metadata": {},
   "outputs": [
    {
     "name": "stdout",
     "output_type": "stream",
     "text": [
      "{'name': 'Rida', 'age': 19, 'city': 'Hyderabad'}\n"
     ]
    }
   ],
   "source": [
    "# Write a Python program to create a dictionary with keys and values and print it.\n",
    "# Create a dictionary\n",
    "my_dict = {\n",
    "    \"name\": \"Rida\",\n",
    "    \"age\": 19,\n",
    "    \"city\": \"Hyderabad\"\n",
    "}\n",
    "\n",
    "# Print the dictionary\n",
    "print(my_dict)"
   ]
  },
  {
   "cell_type": "code",
   "execution_count": 30,
   "id": "7432174b-fe75-4371-b23a-e2c5d62edb15",
   "metadata": {},
   "outputs": [
    {
     "name": "stdout",
     "output_type": "stream",
     "text": [
      "Rida\n",
      "19\n"
     ]
    }
   ],
   "source": [
    "# Write a Python program to access a dictionary value using a key.\n",
    "my_dict = {\n",
    "    \"name\": \"Rida\",\n",
    "    \"age\": 19,\n",
    "    \"city\": \"hyd\"\n",
    "}\n",
    "\n",
    "# Accessing a value using the key\n",
    "name = my_dict[\"name\"]\n",
    "print(name)  \n",
    "\n",
    "# Using the get() method (safer, returns None if key doesn't exist)\n",
    "age = my_dict.get(\"age\")\n",
    "print(age) "
   ]
  },
  {
   "cell_type": "code",
   "execution_count": 34,
   "id": "000b3260-d91f-41f2-9729-4b0124f2c4d2",
   "metadata": {},
   "outputs": [
    {
     "name": "stdout",
     "output_type": "stream",
     "text": [
      "Key exists.\n"
     ]
    }
   ],
   "source": [
    "# Write a Python program to check if a key exists in a dictionary.\n",
    "student = {\"name\": \"Rida\", \"age\": 21, \"courses\": [\"math\", \"science\"]} \n",
    "if \"name\" in student: \n",
    "    print(\"Key exists.\") \n",
    "else: \n",
    "    print(\"Key does not exist.\")"
   ]
  },
  {
   "cell_type": "code",
   "execution_count": 35,
   "id": "c4b1a942-818e-42c1-b742-1fabe80fca6d",
   "metadata": {},
   "outputs": [
    {
     "name": "stdout",
     "output_type": "stream",
     "text": [
      "{'x': 1, 'y': 3, 'z': 4}\n"
     ]
    }
   ],
   "source": [
    "# Write a Python program to merge two dictionaries.\n",
    "d1 = {'x': 1, 'y': 2}\n",
    "d2 = {'y': 3, 'z': 4}\n",
    "\n",
    "d1.update(d2)\n",
    "print(d1)"
   ]
  },
  {
   "cell_type": "code",
   "execution_count": 37,
   "id": "a78f1070-3ff3-436a-8391-153f019f53cd",
   "metadata": {},
   "outputs": [
    {
     "name": "stdout",
     "output_type": "stream",
     "text": [
      "The dictionary before performing remove is :  {'rida': 22, 'saba': 21, 'ziya': 21}\n",
      "The dictionary after remove is :  {'rida': 22, 'ziya': 21}\n"
     ]
    },
    {
     "ename": "KeyError",
     "evalue": "'saba'",
     "output_type": "error",
     "traceback": [
      "\u001b[1;31m---------------------------------------------------------------------------\u001b[0m",
      "\u001b[1;31mKeyError\u001b[0m                                  Traceback (most recent call last)",
      "Cell \u001b[1;32mIn[37], line 15\u001b[0m\n\u001b[0;32m     11\u001b[0m \u001b[38;5;28mprint\u001b[39m(\u001b[38;5;124m\"\u001b[39m\u001b[38;5;124mThe dictionary after remove is : \u001b[39m\u001b[38;5;124m\"\u001b[39m, test_dict)\n\u001b[0;32m     13\u001b[0m \u001b[38;5;66;03m# Using del to remove a dict\u001b[39;00m\n\u001b[0;32m     14\u001b[0m \u001b[38;5;66;03m# raises exception\u001b[39;00m\n\u001b[1;32m---> 15\u001b[0m \u001b[38;5;28;01mdel\u001b[39;00m \u001b[43mtest_dict\u001b[49m\u001b[43m[\u001b[49m\u001b[38;5;124;43m'\u001b[39;49m\u001b[38;5;124;43msaba\u001b[39;49m\u001b[38;5;124;43m'\u001b[39;49m\u001b[43m]\u001b[49m\n",
      "\u001b[1;31mKeyError\u001b[0m: 'saba'"
     ]
    }
   ],
   "source": [
    "# Write a Python program to remove a key from a dictionary.\n",
    "# Initializing dictionary\n",
    "test_dict = {\"rida\": 22, \"saba\": 21, \"ziya\": 21}\n",
    "\n",
    "# Printing dictionary before removal\n",
    "print(\"The dictionary before performing remove is : \", test_dict)\n",
    "\n",
    "del test_dict['saba']\n",
    "\n",
    "# Printing dictionary after removal\n",
    "print(\"The dictionary after remove is : \", test_dict)\n",
    "\n",
    "# Using del to remove a dict\n",
    "# raises exception\n",
    "del test_dict['saba']"
   ]
  },
  {
   "cell_type": "code",
   "execution_count": 38,
   "id": "fcba0267-8cc4-4e89-9e78-2d820916c177",
   "metadata": {},
   "outputs": [
    {
     "name": "stdout",
     "output_type": "stream",
     "text": [
      "Number of keys: 3\n"
     ]
    }
   ],
   "source": [
    "\n",
    "# Write a Python program to get the number of keys in a dictionary.\n",
    "my_dict = {\n",
    "    \"name\": \"rida\",\n",
    "    \"age\": 20,\n",
    "    \"city\": \"hyd\"\n",
    "}\n",
    "\n",
    "num_keys = len(my_dict)\n",
    "\n",
    "print(\"Number of keys:\", num_keys)"
   ]
  },
  {
   "cell_type": "code",
   "execution_count": 39,
   "id": "d4c5fd77-9656-43e5-8fe2-be7dca23eb6d",
   "metadata": {},
   "outputs": [
    {
     "data": {
      "text/plain": [
       "'b'"
      ]
     },
     "execution_count": 39,
     "metadata": {},
     "output_type": "execute_result"
    }
   ],
   "source": [
    "# Write a Python program to find the largest and smallest values in a dictionary.\n",
    "def key_of_min(d):\n",
    "  return min(d, key = d.get)\n",
    "\n",
    "key_of_min({'a':4, 'b':0, 'c':13}) # b"
   ]
  },
  {
   "cell_type": "code",
   "execution_count": 40,
   "id": "c6c3115c",
   "metadata": {},
   "outputs": [
    {
     "data": {
      "text/plain": [
       "'c'"
      ]
     },
     "execution_count": 40,
     "metadata": {},
     "output_type": "execute_result"
    }
   ],
   "source": [
    "# Write a Python program to find the largest and smallest values in a dictionary.\n",
    "\n",
    "def key_of_max(d):\n",
    "  return max(d, key = d.get)\n",
    "\n",
    "key_of_max({'a':4, 'b':0, 'c':13}) "
   ]
  },
  {
   "cell_type": "markdown",
   "id": "7830b8cc-9a90-45a2-8e4a-6f3c2b8b133b",
   "metadata": {},
   "source": [
    "## Functions (User-Defined, Arguments, Keyword Arguments, Return Values)"
   ]
  },
  {
   "cell_type": "code",
   "execution_count": 42,
   "id": "06a33fba-c6b1-4989-90f4-b647d1fe1627",
   "metadata": {},
   "outputs": [
    {
     "name": "stdout",
     "output_type": "stream",
     "text": [
      "25\n"
     ]
    }
   ],
   "source": [
    "# Write a Python function that returns the square of a number.\n",
    "def square(num):\n",
    "  \"\"\"Returns the square of a number.\"\"\"\n",
    "  return num ** 2\n",
    "print(square(5)) "
   ]
  },
  {
   "cell_type": "code",
   "execution_count": 43,
   "id": "91d90a4a-7329-45db-893b-caed8450ba96",
   "metadata": {},
   "outputs": [
    {
     "name": "stdout",
     "output_type": "stream",
     "text": [
      "12\n"
     ]
    }
   ],
   "source": [
    "# Write a Python function that accepts two parameters and returns their sum.\n",
    "num1 = 5\n",
    "num2 = 7\n",
    "def add_numbers(num1,num2):\n",
    "\n",
    "    return num1 + num2\n",
    "print(add_numbers(num1,num2))"
   ]
  },
  {
   "cell_type": "code",
   "execution_count": 44,
   "id": "dec2f9a5-90c5-478b-890b-0a506ecf45d3",
   "metadata": {},
   "outputs": [
    {
     "name": "stdout",
     "output_type": "stream",
     "text": [
      "True\n",
      "False\n"
     ]
    }
   ],
   "source": [
    "# Write a Python function to check if a given number is prime.\n",
    "def is_prime(num):\n",
    "    if num <= 1:\n",
    "        return False\n",
    "    for i in range(2, int(num ** 0.5) + 1):\n",
    "        if num % i == 0:\n",
    "            return False\n",
    "    return True\n",
    "\n",
    "print(is_prime(7))\n",
    "print(is_prime(10))"
   ]
  },
  {
   "cell_type": "code",
   "execution_count": 46,
   "id": "56337441-68c3-45df-8733-a34cde0533a5",
   "metadata": {},
   "outputs": [
    {
     "name": "stdout",
     "output_type": "stream",
     "text": [
      "120\n",
      "1\n"
     ]
    }
   ],
   "source": [
    "# Write a Python function to calculate the factorial of a number using recursion.\n",
    "def factorial(n):\n",
    "    if n == 0:\n",
    "        return 1\n",
    "    else:\n",
    "        return n * factorial(n - 1)\n",
    "\n",
    "print(factorial(5))\n",
    "print(factorial(0))"
   ]
  },
  {
   "cell_type": "code",
   "execution_count": 45,
   "id": "84a2d010-e7b2-409b-b1f4-99bf806bb77a",
   "metadata": {},
   "outputs": [
    {
     "name": "stdout",
     "output_type": "stream",
     "text": [
      "8\n",
      "0.1111111111111111\n"
     ]
    }
   ],
   "source": [
    "# Write a Python function to calculate the power of a number using recursion.\n",
    "def power(base, exponent):\n",
    "    if exponent == 0:\n",
    "        return 1\n",
    "    elif exponent > 0:\n",
    "        return base * power(base, exponent - 1)\n",
    "    else:\n",
    "        return 1 / (base * power(base, -exponent - 1))\n",
    "\n",
    "print(power(2, 3))\n",
    "print(power(3, -2))"
   ]
  },
  {
   "cell_type": "code",
   "execution_count": 49,
   "id": "ec44911e-7820-46cc-96a3-4ca443888837",
   "metadata": {},
   "outputs": [
    {
     "name": "stdout",
     "output_type": "stream",
     "text": [
      "5\n"
     ]
    }
   ],
   "source": [
    "# Write a Python function to accept a list and return its length without using the built-in len() function.\n",
    "def list_length(lst):\n",
    "    count = 0\n",
    "    for _ in lst:\n",
    "        count += 1\n",
    "    return count\n",
    "\n",
    "my_list = [1, 2, 3, 4, 5]\n",
    "print(list_length(my_list))"
   ]
  },
  {
   "cell_type": "code",
   "execution_count": 48,
   "id": "fb4c08e1-34f3-487a-a1c6-77cd60fb4836",
   "metadata": {},
   "outputs": [
    {
     "name": "stdout",
     "output_type": "stream",
     "text": [
      "15\n"
     ]
    }
   ],
   "source": [
    "# Write a Python function that accepts both positional and keyword arguments and prints the sum of positional arguments.\n",
    "def sum_positional_arguments(*args):\n",
    "    total = 0\n",
    "    for arg in args:\n",
    "        total += arg\n",
    "    return total\n",
    "\n",
    "print(sum_positional_arguments(1, 2, 3, 4, 5))"
   ]
  },
  {
   "cell_type": "code",
   "execution_count": 50,
   "id": "f4ffc7a8-f579-461c-b507-4085a0477283",
   "metadata": {},
   "outputs": [
    {
     "name": "stdout",
     "output_type": "stream",
     "text": [
      "4\n"
     ]
    }
   ],
   "source": [
    "# Write a Python function to find the maximum of two numbers using keyword arguments.\n",
    "\n",
    "\n",
    "def maximum(a, b):\n",
    "    \n",
    "    if a >= b:\n",
    "        return a\n",
    "    else:\n",
    "        return b\n",
    "    \n",
    "\n",
    "a = 2\n",
    "b = 4\n",
    "print(maximum(a, b))"
   ]
  },
  {
   "cell_type": "code",
   "execution_count": 51,
   "id": "0b00c4af-89e0-43e8-a991-1b684d2ce33f",
   "metadata": {},
   "outputs": [],
   "source": [
    "# Write a Python function that accepts a list of numbers and returns their product.\n",
    "def product(numbers):\n",
    "    result = 1\n",
    "    for num in numbers:\n",
    "        result *= num\n",
    "    return result"
   ]
  },
  {
   "cell_type": "code",
   "execution_count": 52,
   "id": "9cd11703-5b48-44fe-af4e-ea906a2762c9",
   "metadata": {},
   "outputs": [],
   "source": [
    "# Write a Python function to check if a number is even or odd using the modulo operator.\n",
    "def is_even(number):\n",
    "  \"\"\"Checks if a number is even.\n",
    "\n",
    "  Args:\n",
    "    number: The number to check.\n",
    "\n",
    "  Returns:\n",
    "    True if the number is even, False otherwise.\n",
    "  \"\"\"\n",
    "  return number % 2 == 0"
   ]
  },
  {
   "cell_type": "code",
   "execution_count": 53,
   "id": "afbf262e-daed-40a9-827f-82fa60979610",
   "metadata": {},
   "outputs": [
    {
     "name": "stdout",
     "output_type": "stream",
     "text": [
      "[1, 4, 9, 16, 25, 36, 49, 64, 81, 100]\n"
     ]
    }
   ],
   "source": [
    "# Write a Python program to create a list of squares of numbers from 1 to 10 using list comprehension.\n",
    "squares = [x**2 for x in range(1, 11)]\n",
    "print(squares)"
   ]
  },
  {
   "cell_type": "code",
   "execution_count": 1,
   "id": "7fff76d8-9ba8-4006-9be6-6f7350092d1c",
   "metadata": {},
   "outputs": [
    {
     "name": "stdout",
     "output_type": "stream",
     "text": [
      "[2, 4, 6, 8, 10]\n"
     ]
    }
   ],
   "source": [
    "# Write a Python program to filter out all even numbers from a list using list comprehension.\n",
    "numbers = [1, 2, 3, 4, 5, 6, 7, 8, 9, 10]\n",
    "even_numbers = [x for x in numbers if x % 2 == 0]\n",
    "print(even_numbers)"
   ]
  },
  {
   "cell_type": "code",
   "execution_count": 3,
   "id": "6ae9b8df-38f9-4fd7-bad1-aa7b07cc9271",
   "metadata": {},
   "outputs": [
    {
     "name": "stdout",
     "output_type": "stream",
     "text": [
      "['apple', 'banana', 'cherry', 'mango', 'banana']\n"
     ]
    }
   ],
   "source": [
    "\n",
    "# Write a Python program to create a list of strings that are longer than 4 characters from a given list of words using list comprehension.\n",
    "words = ['apple', 'banana', 'cherry', 'mango', 'banana']\n",
    "long_words = [word for word in words if len(word) > 4]\n",
    "print(long_words)"
   ]
  },
  {
   "cell_type": "code",
   "execution_count": 4,
   "id": "f492c7d4-6ad3-48ab-9b61-232be02aecee",
   "metadata": {},
   "outputs": [
    {
     "name": "stdout",
     "output_type": "stream",
     "text": [
      "['H', 'W']\n"
     ]
    }
   ],
   "source": [
    "# Write a Python program to create a list of all uppercase letters in a string using list comprehension.\n",
    "string = \"Hello, World!\"\n",
    "uppercase_letters = [char for char in string if char.isupper()]\n",
    "print(uppercase_letters)"
   ]
  },
  {
   "cell_type": "code",
   "execution_count": 5,
   "id": "929a7f74-1762-4a2a-be23-bacf67ff4d8b",
   "metadata": {},
   "outputs": [
    {
     "name": "stdout",
     "output_type": "stream",
     "text": [
      "[0, 1, 1, 2, 3, 5, 8, 13, 21, 34]\n"
     ]
    }
   ],
   "source": [
    "# Write a Python program to generate the first n Fibonacci numbers using list comprehension.\n",
    "n = 10\n",
    "fibonacci = [0, 1]\n",
    "[fibonacci.append(fibonacci[-1] + fibonacci[-2]) for _ in range(n - 2)]\n",
    "print(fibonacci)"
   ]
  },
  {
   "cell_type": "code",
   "execution_count": 7,
   "id": "47188bbc-cf62-47bb-a14e-0582c8b5cdd9",
   "metadata": {},
   "outputs": [
    {
     "name": "stdout",
     "output_type": "stream",
     "text": [
      "{1: 1, 2: 4, 3: 9, 4: 16, 5: 25}\n"
     ]
    }
   ],
   "source": [
    "# Write a Python program to create a dictionary where keys are numbers and values are their squares using dictionary comprehension.\n",
    "squares = {x: x**2 for x in range(1, 6)}\n",
    "print(squares)"
   ]
  },
  {
   "cell_type": "code",
   "execution_count": 8,
   "id": "3c4637d3-aa85-4b4c-acf3-953c10818bcb",
   "metadata": {},
   "outputs": [
    {
     "name": "stdout",
     "output_type": "stream",
     "text": [
      "{'a': 1, 'b': 2, 'c': 3}\n"
     ]
    }
   ],
   "source": [
    "# Write a Python program to create a dictionary from two lists (one for keys and one for values) using dictionary comprehension.\n",
    "keys = ['a', 'b', 'c']\n",
    "values = [1, 2, 3]\n",
    "my_dict = {key: value for key, value in zip(keys, values)}\n",
    "print(my_dict)"
   ]
  },
  {
   "cell_type": "code",
   "execution_count": 9,
   "id": "de817d6f-96e7-4346-839e-1ef0df539b6b",
   "metadata": {},
   "outputs": [
    {
     "name": "stdout",
     "output_type": "stream",
     "text": [
      "{1: 1, 2: 8, 3: 27, 4: 64, 5: 125}\n"
     ]
    }
   ],
   "source": [
    "# Write a Python program to create a dictionary of numbers from 1 to 5 and their cubes using dictionary comprehension.\n",
    "cubes = {x: x**3 for x in range(1, 6)}\n",
    "print(cubes)"
   ]
  },
  {
   "cell_type": "code",
   "execution_count": 17,
   "id": "33695301-057e-49a6-9f80-a2f4e3af60ed",
   "metadata": {},
   "outputs": [
    {
     "ename": "NameError",
     "evalue": "name 'square' is not defined",
     "output_type": "error",
     "traceback": [
      "\u001b[1;31m---------------------------------------------------------------------------\u001b[0m",
      "\u001b[1;31mNameError\u001b[0m                                 Traceback (most recent call last)",
      "Cell \u001b[1;32mIn[17], line 3\u001b[0m\n\u001b[0;32m      1\u001b[0m \u001b[38;5;66;03m# Write a Python program to square each element of a list using the map() function.\u001b[39;00m\n\u001b[0;32m      2\u001b[0m numbers \u001b[38;5;241m=\u001b[39m [\u001b[38;5;241m1\u001b[39m, \u001b[38;5;241m2\u001b[39m, \u001b[38;5;241m3\u001b[39m, \u001b[38;5;241m4\u001b[39m, \u001b[38;5;241m5\u001b[39m]\n\u001b[1;32m----> 3\u001b[0m squared_numbers \u001b[38;5;241m=\u001b[39m \u001b[38;5;28mlist\u001b[39m(\u001b[38;5;28mmap\u001b[39m( \u001b[43msquare\u001b[49m , numbers))\n\u001b[0;32m      4\u001b[0m \u001b[38;5;28mprint\u001b[39m(squared_numbers)\n",
      "\u001b[1;31mNameError\u001b[0m: name 'square' is not defined"
     ]
    }
   ],
   "source": [
    "# Write a Python program to square each element of a list using the map() function.\n",
    "numbers = [1, 2, 3, 4, 5]\n",
    "squared_numbers = list(map( square , numbers))\n",
    "print(squared_numbers)"
   ]
  },
  {
   "cell_type": "code",
   "execution_count": 12,
   "id": "6d4d17f3-c40f-4944-8656-c6416b600361",
   "metadata": {},
   "outputs": [
    {
     "name": "stdout",
     "output_type": "stream",
     "text": [
      "[2, 4, 6, 8, 10]\n"
     ]
    }
   ],
   "source": [
    "# Write a Python program to filter all even numbers from a list using the filter() function.\n",
    "numbers = [1, 2, 3, 4, 5, 6, 7, 8, 9, 10]\n",
    "even_numbers = list(filter(lambda x: x % 2 == 0, numbers))\n",
    "print(even_numbers)"
   ]
  },
  {
   "cell_type": "code",
   "execution_count": 15,
   "id": "6634ba1f-9f81-475e-b7c4-422d102afb75",
   "metadata": {},
   "outputs": [
    {
     "name": "stdout",
     "output_type": "stream",
     "text": [
      "[2, 4, 6, 8, 10]\n"
     ]
    }
   ],
   "source": [
    "# Write a Python program to use a lambda function to check if a number is divisible by both 3 and 5.\n",
    "numbers = [1, 2, 3, 4, 5, 6, 7, 8, 9, 10]\n",
    "even_numbers = list(filter(lambda x: x % 2 == 0, numbers))\n",
    "print(even_numbers)\n"
   ]
  },
  {
   "cell_type": "code",
   "execution_count": 13,
   "id": "0aac8430-5d77-439d-9a99-9598fadf989c",
   "metadata": {},
   "outputs": [
    {
     "name": "stdout",
     "output_type": "stream",
     "text": [
      "[2, 4, 6, 8, 10]\n"
     ]
    }
   ],
   "source": [
    "# Write a Python program to multiply all numbers in a list by 2 using a lambda function inside map().\n",
    "numbers = [1, 2, 3, 4, 5]\n",
    "\n",
    "result =list(map(lambda x: x * 2, numbers))\n",
    "\n",
    "print(result)"
   ]
  },
  {
   "cell_type": "code",
   "execution_count": 56,
   "id": "eab20482",
   "metadata": {},
   "outputs": [
    {
     "name": "stdout",
     "output_type": "stream",
     "text": [
      "True\n"
     ]
    }
   ],
   "source": [
    "is_divisible_by_3_and_5 = lambda x: x % 3 == 0 and x % 5 == 0\n",
    "print(is_divisible_by_3_and_5(15))\n"
   ]
  },
  {
   "cell_type": "code",
   "execution_count": 17,
   "id": "e4cd5ba8-c6ec-4f0d-8787-bf0a4b7a2e22",
   "metadata": {},
   "outputs": [
    {
     "name": "stdout",
     "output_type": "stream",
     "text": [
      "Original List: [1, 2, 3, 4, 2, 5, 2, 6]\n",
      "List after removing 2 : [1, 3, 4, 5, 6]\n"
     ]
    }
   ],
   "source": [
    "# Write a Python program to remove all occurrences of a specific element from a list.\n",
    "def remove_element(lst, elem):\n",
    "    return [x for x in lst if x != elem]\n",
    "numbers = [1, 2, 3, 4, 2, 5, 2, 6]\n",
    "element_to_remove = 2\n",
    "print(\"Original List:\", numbers)\n",
    "print(\"List after removing\", element_to_remove, \":\", remove_element(numbers, element_to_remove))"
   ]
  },
  {
   "cell_type": "markdown",
   "id": "caba77c7-93db-4893-8f48-c7365ed5c585",
   "metadata": {},
   "source": [
    "**Note:** \n",
    "- All assignments must follow [PEP 8 – Style Guide for Python Code](https://peps.python.org/pep-0008/) guidelines.\n",
    "- You can add multiple solutions for each question. Create a new code cell next to the question and add it. Shortcut for creating cell : `Alt + Enter`"
   ]
  }
 ],
 "metadata": {
  "kernelspec": {
   "display_name": "Python 3",
   "language": "python",
   "name": "python3"
  },
  "language_info": {
   "codemirror_mode": {
    "name": "ipython",
    "version": 3
   },
   "file_extension": ".py",
   "mimetype": "text/x-python",
   "name": "python",
   "nbconvert_exporter": "python",
   "pygments_lexer": "ipython3",
   "version": "3.13.0"
  }
 },
 "nbformat": 4,
 "nbformat_minor": 5
}
